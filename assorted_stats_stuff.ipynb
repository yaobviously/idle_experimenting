{
 "cells": [
  {
   "cell_type": "code",
   "execution_count": 37,
   "id": "89eccd12",
   "metadata": {},
   "outputs": [],
   "source": [
    "import numpy as np\n",
    "import pandas as pd\n",
    "import matplotlib.pyplot as plt\n",
    "import seaborn as sns\n",
    "\n",
    "from scipy.stats import norm, uniform, bernoulli, t, beta"
   ]
  },
  {
   "cell_type": "code",
   "execution_count": 34,
   "id": "71c61e41",
   "metadata": {},
   "outputs": [],
   "source": [
    "def normal_vs_t(mean=2, std=3, sample_size=50):\n",
    "    \n",
    "    norm_ppfs = np.linspace(norm.ppf(0.001), norm.ppf(0.999), 1000)\n",
    "    norm_pdf = norm.pdf(norm_ppfs)    \n",
    "    \n",
    "    ddof = sample_size - 1\n",
    "    t_pffs = np.linspace(t.ppf(0.001, ddof), t.ppf(0.999, ddof), 1000)    \n",
    "    t_pdf = t.pdf(t_pffs, ddof)\n",
    "    \n",
    "    plt.plot(norm_ppfs, norm_pdf, label='Normal Dist.', color='blue')\n",
    "    plt.plot(t_pffs, t_pdf, label='t-Distribution', color='green')\n",
    "    plt.title(f'Normal vs t-Distribution (df={ddof})')\n",
    "    plt.xlabel('x')\n",
    "    plt.ylabel('PDF')\n",
    "    plt.show()"
   ]
  },
  {
   "cell_type": "code",
   "execution_count": 165,
   "id": "45464122",
   "metadata": {},
   "outputs": [],
   "source": [
    "class ThompsonSampleGauss:\n",
    "    \"\"\"\n",
    "    A class to perform Gaussian Thompson Sampling on the multi-armed bandit problem.\n",
    "    \"\"\"\n",
    "    \n",
    "    def __init__(self, bandits: int, means: np.ndarray, stds: np.ndarray, pulls: int) -> None:\n",
    "        \"\"\"\n",
    "        Initializes the ThompsonSampleTest class.\n",
    "\n",
    "        Args:\n",
    "            bandits: the number of arms in the bandit problem.\n",
    "            means: a numpy array representing the true means of the bandits.\n",
    "            stds: a numpy array representing the true standard deviations of the bandits.\n",
    "            pulls: the number of times to pull the arms of the bandit problem.\n",
    "        \"\"\"\n",
    "        self.bandits = bandits\n",
    "        self.prior_means = np.zeros(bandits)\n",
    "        self.prior_stds = np.ones(bandits) * 1000\n",
    "        self.actual_means = means\n",
    "        self.actual_stds = stds\n",
    "        self.pulls = pulls\n",
    "        self.samples = np.zeros(bandits)\n",
    "        self.mean_sequences = {n : [] for n in range(bandits)}\n",
    "        self.stds_sequences = {n : [] for n in range(bandits)}\n",
    "        \n",
    "        for n in range(bandits):\n",
    "            self.mean_sequences[n].append(0)\n",
    "        for n in range(bandits):\n",
    "            self.stds_sequences[n].append(1)\n",
    "        \n",
    "    def get_choice(self) -> int:\n",
    "        \"\"\"\n",
    "        Samples the prior distributions to select the arm to pull. \n",
    "        Note that we sample it twice to get both a mean and a standard deviation.        \n",
    "        \n",
    "        Returns:\n",
    "            The index of the arm to pull.\n",
    "        \"\"\"       \n",
    "        sample_means = norm.rvs(self.prior_means, self.prior_stds)\n",
    "        sample_stds = np.abs(norm.rvs(self.prior_means, self.prior_stds))\n",
    "        \n",
    "        return np.argmax(norm.rvs(sample_means, sample_stds))\n",
    "    \n",
    "    def get_reward(self, choice: int) -> float:        \n",
    "        \"\"\"\n",
    "        Samples the distribution of the arm chosen to get a reward.\n",
    "\n",
    "        Args:\n",
    "            choice: The index of the arm chosen.\n",
    "            \n",
    "        Returns:\n",
    "            The reward obtained from the chosen arm.\n",
    "        \"\"\"        \n",
    "        reward = norm.rvs(self.actual_means[choice], self.actual_stds[choice])\n",
    "        \n",
    "        return reward\n",
    "    \n",
    "    def update_prior(self, choice: int, reward: float) -> None:\n",
    "        \"\"\"\n",
    "        Updates the prior distribution for the chosen arm.\n",
    "\n",
    "        Args:\n",
    "            choice: The index of the arm chosen.\n",
    "            reward: The reward obtained from the chosen arm.\n",
    "        \"\"\"       \n",
    "        self.samples[choice] += 1\n",
    "        self.prior_means[choice] = (self.prior_means[choice] * (self.samples[choice] - 1) + reward) / self.samples[choice]\n",
    "        self.prior_stds[choice] = np.sqrt((self.prior_stds[choice]**2 * (self.samples[choice] - 1) + (reward - self.prior_means[choice])**2) / self.samples[choice])\n",
    "        \n",
    "        self.mean_sequences[choice].append(self.prior_means[choice])\n",
    "        self.stds_sequences[choice].append(self.prior_stds[choice])\n",
    "                                          \n",
    "    def do_it(self) -> None:\n",
    "        \"\"\"\n",
    "        Performs the Thompson Sampling algorithm for the specified number of pulls.\n",
    "        \"\"\"        \n",
    "        for i in range(self.pulls):\n",
    "\n",
    "            choice = self.get_choice()\n",
    "            reward = self.get_reward(choice)\n",
    "            \n",
    "            self.update_prior(choice, reward)\n"
   ]
  },
  {
   "cell_type": "code",
   "execution_count": 166,
   "id": "ba12fce4",
   "metadata": {},
   "outputs": [],
   "source": [
    "g = ThompsonSampleGauss(5, [3, 4, 8, 9, 2], [5, 5, 3, 2, 9], 3223)\n",
    "g.do_it()\n"
   ]
  },
  {
   "cell_type": "code",
   "execution_count": 173,
   "id": "c548f19d",
   "metadata": {},
   "outputs": [
    {
     "data": {
      "text/plain": [
       "[<matplotlib.lines.Line2D at 0x1ceaa3d9c40>]"
      ]
     },
     "execution_count": 173,
     "metadata": {},
     "output_type": "execute_result"
    },
    {
     "data": {
      "image/png": "[encoded data removed]",
      "text/plain": [
       "<Figure size 640x480 with 1 Axes>"
      ]
     },
     "metadata": {},
     "output_type": "display_data"
    }
   ],
   "source": [
    "plt.plot(g.mean_sequences[2])"
   ]
  },
  {
   "cell_type": "code",
   "execution_count": null,
   "id": "90789143",
   "metadata": {},
   "outputs": [],
   "source": []
  }
 ],
 "metadata": {
  "kernelspec": {
   "display_name": "Python 3 (ipykernel)",
   "language": "python",
   "name": "python3"
  },
  "language_info": {
   "codemirror_mode": {
    "name": "ipython",
    "version": 3
   },
   "file_extension": ".py",
   "mimetype": "text/x-python",
   "name": "python",
   "nbconvert_exporter": "python",
   "pygments_lexer": "ipython3",
   "version": "3.9.16"
  }
 },
 "nbformat": 4,
 "nbformat_minor": 5
}
